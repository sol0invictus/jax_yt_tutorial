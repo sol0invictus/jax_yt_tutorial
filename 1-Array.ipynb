{
 "cells": [
  {
   "cell_type": "markdown",
   "metadata": {},
   "source": [
    "\n",
    "## What is JAX?\n",
    "\n",
    "JAX is a high-performance numerical computing library developed by Google Research.\n",
    "It combines NumPy's familiar API with automatic differentiation and hardware acceleration.\n",
    "The name \"JAX\" stands for \"Just After eXecution\" - highlighting its just-in-time compilation strategy.\n",
    "JAX is designed for high-performance machine learning research and scientific computing.\n",
    "\n",
    "JAX's Core Principles\n",
    "\n",
    "\"NumPy on steroids\" - familiar API but with added capabilities\n",
    "Functional programming paradigm - emphasizes pure functions and immutability\n",
    "Composable function transformations - gradients, vectorization, and JIT compilation\n",
    "Designed for modern hardware acceleration (GPUs and TPUs)\n",
    "\n",
    "Key Differences Between JAX and PyTorch\n",
    "\n",
    "- JAX: Employs a functional programming approach with immutable arrays\n",
    "PyTorch: Uses an object-oriented approach with mutable tensors\n",
    "\"In JAX, you don't change data, you transform it into new data\"\n",
    "\n",
    "- JAX: Uses forward-mode and reverse-mode automatic differentiation through its grad transformation\n",
    "PyTorch: Uses dynamic computation graphs with eager execution\n",
    "JAX provides more flexibility in differentiation styles (forward vs reverse)\n",
    "\n",
    "- JAX: Uses XLA (Accelerated Linear Algebra) for compilation and optimization\n",
    "PyTorch: Traditionally used eager execution, though now has TorchScript/JIT\n",
    "JAX's compilation strategy often leads to better performance for certain workloads\n",
    "\n",
    "\n",
    "- JAX: Emphasizes just-in-time compilation for performance\n",
    "PyTorch: Traditionally emphasizes eager execution for flexibility\n",
    "JAX code often requires a different mindset due to compilation requirements\n",
    "\n"
   ]
  },
  {
   "cell_type": "markdown",
   "metadata": {},
   "source": [
    "# Introduction to JAX Arrays\n",
    "\n",
    "Welcome to this tutorial on JAX Arrays! This notebook covers the fundamental concepts and operations related to arrays in JAX, which are the basic building blocks for numerical computing in the library.\n"
   ]
  },
  {
   "cell_type": "code",
   "execution_count": 1,
   "metadata": {},
   "outputs": [
    {
     "name": "stdout",
     "output_type": "stream",
     "text": [
      "JAX version: 0.6.1\n",
      "Available devices: [CudaDevice(id=0)]\n"
     ]
    }
   ],
   "source": [
    "# Install JAX if not already installed\n",
    "# !pip install jax jaxlib\n",
    "\n",
    "# Import the necessary libraries\n",
    "import jax\n",
    "import jax.numpy as jnp\n",
    "import numpy as np\n",
    "\n",
    "# Check the JAX version\n",
    "print(f\"JAX version: {jax.__version__}\")\n",
    "\n",
    "# Check if GPU is available\n",
    "print(f\"Available devices: {jax.devices()}\")"
   ]
  },
  {
   "cell_type": "markdown",
   "metadata": {},
   "source": [
    "## 1. Creating JAX Arrays\n",
    "\n",
    "JAX arrays are similar to NumPy arrays but are designed to work efficiently with JAX's transformations and hardware acceleration. Let's see how to create JAX arrays."
   ]
  },
  {
   "cell_type": "code",
   "execution_count": 2,
   "metadata": {},
   "outputs": [
    {
     "name": "stdout",
     "output_type": "stream",
     "text": [
      "Array of ones:\n",
      "[[1. 1. 1.]\n",
      " [1. 1. 1.]]\n",
      "Shape: (2, 3)\n",
      "\n",
      "3x3 Identity matrix:\n",
      "[[1. 0. 0.]\n",
      " [0. 1. 0.]\n",
      " [0. 0. 1.]]\n",
      "Shape: (3, 3)\n"
     ]
    }
   ],
   "source": [
    "# Creating JAX arrays from scratch\n",
    "\n",
    "# Create an array of ones\n",
    "ones = jnp.ones((2, 3))\n",
    "print(\"Array of ones:\")\n",
    "print(ones)\n",
    "print(f\"Shape: {ones.shape}\\n\")\n",
    "\n",
    "# Create an identity matrix\n",
    "identity = jnp.eye(3)\n",
    "print(\"3x3 Identity matrix:\")\n",
    "print(identity)\n",
    "print(f\"Shape: {identity.shape}\")"
   ]
  },
  {
   "cell_type": "code",
   "execution_count": 3,
   "metadata": {},
   "outputs": [
    {
     "name": "stdout",
     "output_type": "stream",
     "text": [
      "JAX array from nested list:\n",
      "[[1 2 3]\n",
      " [4 5 6]]\n",
      "Shape: (2, 3)\n",
      "\n",
      "Original NumPy array:\n",
      "[[0.31940963 0.05591559 0.2763571 ]\n",
      " [0.83519235 0.61999807 0.91921544]\n",
      " [0.30241709 0.81350188 0.02125688]]\n",
      "Type: <class 'numpy.ndarray'>\n",
      "\n",
      "Converted JAX array:\n",
      "[[0.31940964 0.05591559 0.2763571 ]\n",
      " [0.8351924  0.61999804 0.91921544]\n",
      " [0.3024171  0.8135019  0.02125688]]\n",
      "Type: <class 'jaxlib._jax.ArrayImpl'>\n"
     ]
    }
   ],
   "source": [
    "# Creating JAX arrays from sequences and NumPy arrays\n",
    "\n",
    "# From a nested list (2D array)\n",
    "nested_list_array = jnp.array([[1, 2, 3], [4, 5, 6]])\n",
    "print(\"JAX array from nested list:\")\n",
    "print(nested_list_array)\n",
    "print(f\"Shape: {nested_list_array.shape}\\n\")\n",
    "\n",
    "# From a NumPy array\n",
    "numpy_array = np.random.rand(3, 3)\n",
    "jax_array = jnp.array(numpy_array)\n",
    "print(\"Original NumPy array:\")\n",
    "print(numpy_array)\n",
    "print(f\"Type: {type(numpy_array)}\\n\")\n",
    "print(\"Converted JAX array:\")\n",
    "print(jax_array)\n",
    "print(f\"Type: {type(jax_array)}\")"
   ]
  },
  {
   "cell_type": "markdown",
   "metadata": {},
   "source": [
    "## 2. Array Properties and Information\n",
    "\n",
    "Understanding array properties is essential for working effectively with JAX arrays."
   ]
  },
  {
   "cell_type": "code",
   "execution_count": 4,
   "metadata": {},
   "outputs": [
    {
     "name": "stdout",
     "output_type": "stream",
     "text": [
      "Sample array:\n",
      "[[1. 2. 3.]\n",
      " [4. 5. 6.]\n",
      " [7. 8. 9.]]\n",
      "\n",
      "Shape: (3, 3)\n",
      "Dimensions: 2\n",
      "Size (total number of elements): 9\n",
      "Data type: float32\n",
      "Byte size: 36 bytes\n",
      "Is JAX tracer: False\n"
     ]
    }
   ],
   "source": [
    "# Create a sample array\n",
    "sample_array = jnp.array([[1.0, 2.0, 3.0], [4.0, 5.0, 6.0], [7.0, 8.0, 9.0]])\n",
    "\n",
    "# Display the array\n",
    "print(\"Sample array:\")\n",
    "print(sample_array)\n",
    "\n",
    "# Basic properties\n",
    "print(f\"\\nShape: {sample_array.shape}\")\n",
    "print(f\"Dimensions: {sample_array.ndim}\")\n",
    "print(f\"Size (total number of elements): {sample_array.size}\")\n",
    "print(f\"Data type: {sample_array.dtype}\")\n",
    "\n",
    "# Get information about the array's memory layout\n",
    "print(f\"Byte size: {sample_array.nbytes} bytes\")\n",
    "\n",
    "# Check if array is a JAX tracer (important for JIT compilation)\n",
    "print(f\"Is JAX tracer: {isinstance(sample_array, jax.core.Tracer)}\")"
   ]
  },
  {
   "cell_type": "markdown",
   "metadata": {},
   "source": [
    "## 3. Array Indexing and Slicing\n",
    "\n",
    "JAX arrays support the same indexing and slicing operations as NumPy arrays, but with important differences in handling due to JAX's immutability."
   ]
  },
  {
   "cell_type": "code",
   "execution_count": 6,
   "metadata": {},
   "outputs": [
    {
     "name": "stdout",
     "output_type": "stream",
     "text": [
      "Original array:\n",
      "[[ 0  1  2  3]\n",
      " [ 4  5  6  7]\n",
      " [ 8  9 10 11]]\n",
      "\n",
      "Element at (1, 2): 6\n",
      "\n",
      "First row: [0 1 2 3]\n",
      "First column: [0 4 8]\n",
      "\n",
      "Subarray (rows 0-1, columns 1-3):\n",
      "[[1 2]\n",
      " [5 6]]\n",
      "\n",
      "Using fancy indexing (rows 0 and 2):\n",
      "[[ 0  1  2  3]\n",
      " [ 8  9 10 11]]\n",
      "\n",
      "Mask for elements > 5:\n",
      "[[False False False False]\n",
      " [False False  True  True]\n",
      " [ True  True  True  True]]\n",
      "Elements where mask is True:\n",
      "[ 6  7  8  9 10 11]\n"
     ]
    }
   ],
   "source": [
    "# Create a 3x4 array for demonstration\n",
    "arr = jnp.arange(12).reshape(3, 4)\n",
    "print(\"Original array:\")\n",
    "print(arr)\n",
    "\n",
    "# Basic indexing\n",
    "print(f\"\\nElement at (1, 2): {arr[1, 2]}\")\n",
    "\n",
    "# Slicing along rows and columns\n",
    "print(f\"\\nFirst row: {arr[0]}\")\n",
    "print(f\"First column: {arr[:, 0]}\")\n",
    "print(f\"\\nSubarray (rows 0-1, columns 1-3):\")\n",
    "print(arr[0:2, 1:3])\n",
    "\n",
    "# Fancy indexing\n",
    "print(f\"\\nUsing fancy indexing (rows 0 and 2):\")\n",
    "print(arr[jnp.array([0, 2])])\n",
    "\n",
    "# Boolean indexing\n",
    "mask = arr > 5\n",
    "print(f\"\\nMask for elements > 5:\")\n",
    "print(mask)\n",
    "print(f\"Elements where mask is True:\")\n",
    "print(arr[mask])"
   ]
  },
  {
   "cell_type": "markdown",
   "metadata": {},
   "source": [
    "## 4. Basic Array Operations\n",
    "\n",
    "JAX provides most of NumPy's functionality through the `jax.numpy` module."
   ]
  },
  {
   "cell_type": "code",
   "execution_count": 7,
   "metadata": {},
   "outputs": [
    {
     "name": "stdout",
     "output_type": "stream",
     "text": [
      "Array a:\n",
      "[[1 2]\n",
      " [3 4]]\n",
      "\n",
      "Array b:\n",
      "[[5 6]\n",
      " [7 8]]\n",
      "\n",
      "Element-wise addition (a + b):\n",
      "[[ 6  8]\n",
      " [10 12]]\n",
      "\n",
      "Element-wise subtraction (a - b):\n",
      "[[-4 -4]\n",
      " [-4 -4]]\n",
      "\n",
      "Element-wise multiplication (a * b):\n",
      "[[ 5 12]\n",
      " [21 32]]\n",
      "\n",
      "Element-wise division (a / b):\n",
      "[[0.2        0.33333334]\n",
      " [0.42857146 0.5       ]]\n",
      "\n",
      "Matrix multiplication (a @ b):\n",
      "[[19 22]\n",
      " [43 50]]\n",
      "\n",
      "Multiply array by scalar (a * 2):\n",
      "[[2 4]\n",
      " [6 8]]\n"
     ]
    }
   ],
   "source": [
    "# Create two arrays\n",
    "a = jnp.array([[1, 2], [3, 4]])\n",
    "b = jnp.array([[5, 6], [7, 8]])\n",
    "\n",
    "print(\"Array a:\")\n",
    "print(a)\n",
    "print(\"\\nArray b:\")\n",
    "print(b)\n",
    "\n",
    "# Element-wise operations\n",
    "print(\"\\nElement-wise addition (a + b):\")\n",
    "print(a + b)\n",
    "\n",
    "print(\"\\nElement-wise subtraction (a - b):\")\n",
    "print(a - b)\n",
    "\n",
    "print(\"\\nElement-wise multiplication (a * b):\")\n",
    "print(a * b)\n",
    "\n",
    "print(\"\\nElement-wise division (a / b):\")\n",
    "print(a / b)\n",
    "\n",
    "# Matrix operations\n",
    "print(\"\\nMatrix multiplication (a @ b):\")\n",
    "print(jnp.matmul(a, b))  # or a @ b\n",
    "\n",
    "# Scalar operations\n",
    "print(\"\\nMultiply array by scalar (a * 2):\")\n",
    "print(a * 2)"
   ]
  },
  {
   "cell_type": "markdown",
   "metadata": {},
   "source": [
    "## 5. Broadcasting in JAX\n",
    "\n",
    "Broadcasting is a powerful feature that allows operations between arrays of different shapes. JAX follows NumPy's broadcasting rules."
   ]
  },
  {
   "cell_type": "code",
   "execution_count": 8,
   "metadata": {},
   "outputs": [
    {
     "name": "stdout",
     "output_type": "stream",
     "text": [
      "Original array:\n",
      "[[1 2 3]\n",
      " [4 5 6]]\n",
      "\n",
      "Array + scalar (10):\n",
      "[[11 12 13]\n",
      " [14 15 16]]\n",
      "\n",
      "Row vector:\n",
      "[10 20 30]\n",
      "\n",
      "Adding row vector to each row of 2D array:\n",
      "[[11 22 33]\n",
      " [14 25 36]]\n",
      "\n",
      "Column vector:\n",
      "[[100]\n",
      " [200]]\n",
      "\n",
      "Adding column vector to each column of 2D array:\n",
      "[[101 102 103]\n",
      " [204 205 206]]\n"
     ]
    }
   ],
   "source": [
    "# Broadcasting examples\n",
    "\n",
    "# 1. Scalar with array\n",
    "arr = jnp.array([[1, 2, 3], [4, 5, 6]])\n",
    "scalar = 10\n",
    "print(\"Original array:\")\n",
    "print(arr)\n",
    "print(f\"\\nArray + scalar ({scalar}):\")\n",
    "print(arr + scalar)\n",
    "\n",
    "# 2. Row vector with 2D array\n",
    "row = jnp.array([10, 20, 30])\n",
    "print(\"\\nRow vector:\")\n",
    "print(row)\n",
    "print(\"\\nAdding row vector to each row of 2D array:\")\n",
    "print(arr + row)\n",
    "\n",
    "# 3. Column vector with 2D array\n",
    "col = jnp.array([[100], [200]])\n",
    "print(\"\\nColumn vector:\")\n",
    "print(col)\n",
    "print(\"\\nAdding column vector to each column of 2D array:\")\n",
    "print(arr + col)"
   ]
  },
  {
   "cell_type": "markdown",
   "metadata": {},
   "source": [
    "## 6. Array Transformations\n",
    "\n",
    "JAX provides various functions to transform arrays, similar to NumPy."
   ]
  },
  {
   "cell_type": "code",
   "execution_count": 9,
   "metadata": {},
   "outputs": [
    {
     "name": "stdout",
     "output_type": "stream",
     "text": [
      "Original array:\n",
      "[[ 0  1  2  3]\n",
      " [ 4  5  6  7]\n",
      " [ 8  9 10 11]]\n",
      "\n",
      "Reshaped to 4x3:\n",
      "[[ 0  1  2]\n",
      " [ 3  4  5]\n",
      " [ 6  7  8]\n",
      " [ 9 10 11]]\n",
      "\n",
      "Transposed:\n",
      "[[ 0  4  8]\n",
      " [ 1  5  9]\n",
      " [ 2  6 10]\n",
      " [ 3  7 11]]\n",
      "\n",
      "Flattened:\n",
      "[ 0  1  2  3  4  5  6  7  8  9 10 11]\n",
      "\n",
      "Vertical stack:\n",
      "[[1 2 3]\n",
      " [4 5 6]]\n",
      "\n",
      "Horizontal stack:\n",
      "[1 2 3 4 5 6]\n"
     ]
    }
   ],
   "source": [
    "# Create a sample array\n",
    "arr = jnp.arange(12).reshape(3, 4)\n",
    "print(\"Original array:\")\n",
    "print(arr)\n",
    "\n",
    "# Reshape the array\n",
    "reshaped = arr.reshape(4, 3)\n",
    "print(\"\\nReshaped to 4x3:\")\n",
    "print(reshaped)\n",
    "\n",
    "# Transpose the array\n",
    "transposed = arr.T  # or jnp.transpose(arr)\n",
    "print(\"\\nTransposed:\")\n",
    "print(transposed)\n",
    "\n",
    "# Flatten the array\n",
    "flattened = arr.flatten()  # or arr.ravel()\n",
    "print(\"\\nFlattened:\")\n",
    "print(flattened)\n",
    "\n",
    "# Stack arrays\n",
    "a = jnp.array([1, 2, 3])\n",
    "b = jnp.array([4, 5, 6])\n",
    "print(\"\\nVertical stack:\")\n",
    "print(jnp.vstack([a, b]))\n",
    "print(\"\\nHorizontal stack:\")\n",
    "print(jnp.hstack([a, b]))"
   ]
  },
  {
   "cell_type": "markdown",
   "metadata": {},
   "source": [
    "## 7. Random Arrays in JAX\n",
    "\n",
    "JAX's approach to random number generation differs from NumPy, using a stateless, functional design."
   ]
  },
  {
   "cell_type": "code",
   "execution_count": 10,
   "metadata": {},
   "outputs": [
    {
     "name": "stdout",
     "output_type": "stream",
     "text": [
      "PRNG key:\n",
      "Array((), dtype=key<fry>) overlaying:\n",
      "[ 0 42]\n",
      "\n",
      "Random uniform array [0, 1):\n",
      "[[0.48870957 0.6797972  0.6162715 ]\n",
      " [0.5610161  0.4506446  0.58586586]]\n",
      "\n",
      "Random normal array:\n",
      "[[ 0.60576403  0.7990441  -0.908927  ]\n",
      " [-0.63525754 -1.2226585  -0.83226097]]\n",
      "\n",
      "Random integers in range [0, 10):\n",
      "[[7 9 8]\n",
      " [3 8 7]]\n"
     ]
    }
   ],
   "source": [
    "# Import JAX's random module\n",
    "from jax import random\n",
    "\n",
    "# Create a PRNG key\n",
    "key = random.key(42)  # 42 is the seed\n",
    "print(\"PRNG key:\")\n",
    "print(key)\n",
    "\n",
    "# Generate random arrays\n",
    "print(\"\\nRandom uniform array [0, 1):\")\n",
    "uniform = random.uniform(key, shape=(2, 3))\n",
    "print(uniform)\n",
    "\n",
    "# Split the key for multiple random operations\n",
    "key, subkey = random.split(key)\n",
    "print(\"\\nRandom normal array:\")\n",
    "normal = random.normal(subkey, shape=(2, 3))\n",
    "print(normal)\n",
    "\n",
    "# Generate random integers\n",
    "key, subkey = random.split(key)\n",
    "print(\"\\nRandom integers in range [0, 10):\")\n",
    "integers = random.randint(subkey, shape=(2, 3), minval=0, maxval=10)\n",
    "print(integers)"
   ]
  },
  {
   "cell_type": "markdown",
   "metadata": {},
   "source": [
    "## 8. JAX's Array Immutability\n",
    "\n",
    "One key difference between JAX and NumPy is that JAX arrays are immutable. Let's explore how this affects operations."
   ]
  },
  {
   "cell_type": "code",
   "execution_count": 11,
   "metadata": {},
   "outputs": [
    {
     "name": "stdout",
     "output_type": "stream",
     "text": [
      "Original JAX array:\n",
      "[1 2 3 4]\n",
      "\n",
      "New array after setting index 0 to 99:\n",
      "[99  2  3  4]\n",
      "\n",
      "Original array (unchanged):\n",
      "[1 2 3 4]\n",
      "\n",
      "Array after updating indices 1 and 2:\n",
      "[ 1 88 77  4]\n",
      "\n",
      "Original 2D array:\n",
      "[[0 1 2]\n",
      " [3 4 5]\n",
      " [6 7 8]]\n",
      "\n",
      "Updated 2D array:\n",
      "[[ 0  1  2]\n",
      " [ 3  4 99]\n",
      " [ 6  7  8]]\n"
     ]
    }
   ],
   "source": [
    "# Create a JAX array\n",
    "jax_arr = jnp.array([1, 2, 3, 4])\n",
    "print(\"Original JAX array:\")\n",
    "print(jax_arr)\n",
    "\n",
    "# Creating a new array (doesn't modify the original)\n",
    "new_arr = jax_arr.at[0].set(99)\n",
    "print(\"\\nNew array after setting index 0 to 99:\")\n",
    "print(new_arr)\n",
    "print(\"\\nOriginal array (unchanged):\")\n",
    "print(jax_arr)\n",
    "\n",
    "# Multiple updates\n",
    "updated_arr = jax_arr.at[1:3].set(jnp.array([88, 77]))\n",
    "print(\"\\nArray after updating indices 1 and 2:\")\n",
    "print(updated_arr)\n",
    "\n",
    "# Create a 2D array\n",
    "arr_2d = jnp.arange(9).reshape(3, 3)\n",
    "print(\"\\nOriginal 2D array:\")\n",
    "print(arr_2d)\n",
    "\n",
    "# Update a specific element\n",
    "updated_2d = arr_2d.at[1, 2].set(99)\n",
    "print(\"\\nUpdated 2D array:\")\n",
    "print(updated_2d)"
   ]
  },
  {
   "cell_type": "markdown",
   "metadata": {},
   "source": [
    "## 9. Device Management\n",
    "\n",
    "JAX arrays can be moved between devices (CPU, GPU, TPU) explicitly."
   ]
  },
  {
   "cell_type": "code",
   "execution_count": 19,
   "metadata": {},
   "outputs": [
    {
     "name": "stdout",
     "output_type": "stream",
     "text": [
      "Default device: cuda:0\n",
      "\n",
      "After explicit CPU placement: TFRT_CPU_0\n",
      "\n",
      "After GPU placement: cuda:0\n"
     ]
    }
   ],
   "source": [
    "# Create a JAX array\n",
    "arr = jnp.ones((3, 3))\n",
    "print(f\"Default device: {arr.addressable_data(0).device}\")\n",
    "\n",
    "# Move to CPU explicitly\n",
    "cpu_arr = jax.device_put(arr, jax.devices('cpu')[0])\n",
    "print(f\"\\nAfter explicit CPU placement: {cpu_arr.addressable_data(0).device}\")\n",
    "\n",
    "# Conditionally move to GPU (if available)\n",
    "gpu_devices = jax.devices('gpu')\n",
    "if gpu_devices:\n",
    "    gpu_arr = jax.device_put(arr, gpu_devices[0])\n",
    "    print(f\"\\nAfter GPU placement: {gpu_arr.addressable_data(0).device}\")\n",
    "else:\n",
    "    print(\"\\nNo GPU devices available\")"
   ]
  },
  {
   "cell_type": "markdown",
   "metadata": {},
   "source": [
    "## 11. JAX-Specific Array Features\n"
   ]
  },
  {
   "cell_type": "markdown",
   "metadata": {},
   "source": [
    "Understanding asynchronous execution in JAX"
   ]
  },
  {
   "cell_type": "code",
   "execution_count": 20,
   "metadata": {},
   "outputs": [
    {
     "name": "stdout",
     "output_type": "stream",
     "text": [
      "Large array created\n",
      "Time without blocking: 1.273312 seconds\n",
      "Time with blocking: 0.01809 seconds\n"
     ]
    }
   ],
   "source": [
    "import time\n",
    "import jax.numpy as jnp  # You need to import JAX numpy\n",
    "\n",
    "# Create a large array\n",
    "large_array = jnp.ones((5000, 5000))\n",
    "print(\"Large array created\")\n",
    "\n",
    "# Example 1: Without block_until_ready()\n",
    "start_time = time.time()\n",
    "result1 = large_array @ large_array  # Matrix multiplication\n",
    "elapsed_without_blocking = time.time() - start_time\n",
    "print(\"Time without blocking:\", round(elapsed_without_blocking, 6), \"seconds\")\n",
    "\n",
    "# Example 2: With block_until_ready()\n",
    "start_time = time.time()\n",
    "result2 = large_array @ large_array  # Matrix multiplication\n",
    "result2.block_until_ready()  # Wait for computation to finish\n",
    "elapsed_with_blocking = time.time() - start_time\n",
    "print(\"Time with blocking:\", round(elapsed_with_blocking, 6), \"seconds\")\n"
   ]
  },
  {
   "cell_type": "code",
   "execution_count": null,
   "metadata": {},
   "outputs": [],
   "source": []
  }
 ],
 "metadata": {
  "kernelspec": {
   "display_name": "base",
   "language": "python",
   "name": "python3"
  },
  "language_info": {
   "codemirror_mode": {
    "name": "ipython",
    "version": 3
   },
   "file_extension": ".py",
   "mimetype": "text/x-python",
   "name": "python",
   "nbconvert_exporter": "python",
   "pygments_lexer": "ipython3",
   "version": "3.12.2"
  }
 },
 "nbformat": 4,
 "nbformat_minor": 4
}
